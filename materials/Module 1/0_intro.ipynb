{
 "cells": [
  {
   "cell_type": "markdown",
   "metadata": {},
   "source": [
    "# Course introduction"
   ]
  },
  {
   "cell_type": "markdown",
   "metadata": {},
   "source": [
    "## A. Overview"
   ]
  },
  {
   "cell_type": "markdown",
   "metadata": {},
   "source": [
    "### Am I ready to take this course?\n",
    "\n",
    "Yes. Probably. Some programming experience will help, but is not required. If you have no programming experience, I strongly encourage you to go through Step 1 (free) of [Data Scientist in Python](https://app.dataquest.io/dashboard).\n",
    "\n",
    "There are <b>a lot</b> of online resources that you can use to supplement things we learn in class. Some examples are:\n",
    "\n",
    " * [Learn Python](https://www.learnpython.org/)\n",
    " * [python.org Tutorial](https://docs.python.org/3/tutorial/index.html)\n",
    " * [Google](http://google.com) (Just type in your question and follow the first [stackoverflow](http://stackoverflow.com) link. This is surprisingly effective; do this first.)"
   ]
  },
  {
   "cell_type": "markdown",
   "metadata": {},
   "source": [
    "### What computational resources do I need for class?\n",
    "\n",
    "You will need a laptop that will provide you access to the course (i.e. internet access) and a Python environment to follow along. "
   ]
  },
  {
   "cell_type": "markdown",
   "metadata": {},
   "source": [
    "### How is this for geosciences specifically?\n",
    "\n",
    "The goal of this class is to provide information for all fields in geoscience. To that end, I will try to cover topics from geology, geography, atmospheric sciences, and oceanography. Specifically, I will focus on 1D timeseries, and 2D geospatial (i.e., on a map) analysis. If you have any topics you would like to cover, please let me know, and I will do my best to accommodate."
   ]
  },
  {
   "cell_type": "markdown",
   "metadata": {},
   "source": [
    "## Class setup\n",
    "\n",
    "### Class format\n",
    "\n",
    "We will go through course materials during class time. You should bring a computer to class so that you can follow along and participate in exercises. Also, course materials are interactive, so you can learn by running code snippets as we go and asking questions. Much like learning a new spoken language, hands-on coding is one the <b>best</b> ways to learn a new language. \n",
    "\n",
    "\n",
    "### Course materials\n",
    "\n",
    "The course materials are available in the [class repository](https://github.com/snifflesnrumjum/python4geosciences). They are in the form of [Jupyter notebooks](http://jupyter.org/). More information on notebooks in the next section.\n",
    "\n",
    "You'll do your work either on your own computer, in a Google Colab notebook, or through the VOAL provided by Texas A&M University. To access the VOAL when off campus, you need to first set up a VPN connection. Set this up for your computer by visiting `https://connect.tamu.edu` and follow instructions there. You'll need to sign in with your NetID, and click on the little blue link that says \"AnyConnect VPN\" if and when you find that \"Web-based installation was unsuccessful\" to install Cisco AnyConnect (you will no longer use the web-based installer after this). When you open the Cisco application on your computer, you will need to fill in \"connect.tamu.edu\" in the little box, then use your NetID and university password to connect. Then you can run this application to use your computer as if you are on campus.\n",
    "\n",
    "\n",
    "### Course textbook\n",
    "\n",
    "There is no textbook for the course. But if you'd like an outside resource, here are three recommendations:\n",
    "\n",
    "1. Learning Python by Mark Lutz (available electronically through TAMU Library http://library.tamu.edu/)\n",
    "2. Beginning Python by Magnus Lie Hetland (available electronically through TAMU Library http://library.tamu.edu/)\n",
    "3. Allen Downey has written a number of books on Python and related scientific subjects. And as a bonus, they are free (digital versions): http://greenteapress.com/wp/. In particular you would want to check out Think Python (2nd edition).\n",
    " "
   ]
  },
  {
   "cell_type": "markdown",
   "metadata": {
    "slideshow": {
     "slide_type": "slide"
    }
   },
   "source": [
    "## B. Jupyter notebooks\n",
    "\n",
    "This file format makes it easy to seamlessly combine text and code. The text can be plain or formatted with [Markdown](https://daringfireball.net/projects/markdown/). The code can be written in over 40 languages including Python, R, and Scala. Most importantly, the code can be interacted with when the notebook is opened in a local (that is, on your computer) iPython server. Alternatively, it can simply be viewed through a github repository (like [this very notebook](https://github.com/snifflesnrumjum/python4geosciences/blob/master/materials/0_intro.ipynb)) or through [nbviewer](http://nbviewer.ipython.org/).\n",
    "\n",
    "You'll be able to run class materials (in the form of Jupyter notebooks) on your own computer, on Google Colab or the VOAL via your web browser as well as create and work on homework assignments. If you prefer, you are welcome to run Python on your own computer, but you will need to do that mostly on your own. If you go that route, I recommend using Python 3 (which we will be using in class) and a distribution from [Anaconda](https://www.anaconda.com/products/individual). \n",
    "\n",
    "\n",
    "### Create a new notebook\n",
    "\n",
    "Start up your local notebook server in your new repo and create a new Jupyter notebook from the local server page.\n",
    "\n",
    "### Choose syntax for a cell\n",
    "\n",
    "Notebooks are built of cells. Cells can have multiple built-in formats including code and Markdown for text. You can select the desired format from a dropdown menu at the top.\n",
    "\n",
    "If you want to type words, use \"Markdown\"; if you want to write code, choose \"code\".\n",
    "\n",
    "### Move between cells\n",
    "\n",
    "To run a given cell, type `[shift-enter]` which active in that cell. You can run all of the cells with Cell > Run all; other variations are available in that drop down menu.\n",
    "\n",
    "\n",
    "### Homework\n",
    "\n",
    "We'll discuss homework soon and go through details. It will be in the form of Jupyter notebooks and will be submitted through the Canvas LMS.\n"
   ]
  },
  {
   "cell_type": "markdown",
   "metadata": {},
   "source": [
    "---\n",
    "\n",
    "The material below is bonus for any students that are interested in using a terminal window on their own computer for running Python. We may go through it in class."
   ]
  },
  {
   "cell_type": "markdown",
   "metadata": {},
   "source": [
    "## Command-line interface\n",
    "\n",
    "A command-line interface is a way to interact with your computer using text instead of a Graphical User Interface (GUI), a GUI being visually based with icons etc. We will use these in this class. On a Macintosh or Linux machine, this is a terminal window. On a PC this is often called a command prompt.\n",
    "\n",
    "Here are some commonly-used commands:\n",
    "\n",
    "* `cd [path]`: change directory from current location to [path]. `cd ..` can be used to move up a single directory, and `cd ../..` moves up two directories, etc.\n",
    "* `pwd`: print working directory, as in write out the current location in the terminal window.\n",
    "* `ls`: list files in current directory. `ls -l` list files in long format to include more information, `ls -a` to list all files even those that are usually not shown because the have a `.` in front, `ls -h` to show file sizes in human readable format. Flags can always be combined to use multiple options at once, as in `ls -ah` to show all files in human readable format.\n",
    "* [tab]: Tab completion. You can always push tab in the terminal window to see available options. As you have some letters entered and push tab, the options will be limited to those that fit the pattern you have started.\n",
    "* `mkdir [dirname]`: make directory called dirname.\n",
    "* `rm [filename]`: remove a file called filename. To remove a directory called dirname, use `rm -r [dirname]`."
   ]
  },
  {
   "cell_type": "code",
   "execution_count": null,
   "metadata": {
    "collapsed": true
   },
   "outputs": [],
   "source": []
  },
  {
   "cell_type": "markdown",
   "metadata": {},
   "source": [
    "## Short git and GitHub tutorial (optional)\n",
    "\n",
    "Class materials are available on a [GitHub](http://github.org) repository. GitHub is a way to share and access code online which has been version-controlled using git. Version control allows changes in code to be tracked over time; this is important for reproducibility, retrieving code in case of accidents, and working on code in groups. Git is one way to version control your code — other methods include subversion (svn), cvs, and mercurial. More information on this is provided below.\n",
    "\n",
    "Remember: you can always google to learn more! Google is an infinite resource that you can ask at any time of the day. Here we summarize a brief overview of how to use git. GitHub has a [cheatsheet](https://education.github.com/git-cheat-sheet-education.pdf) available.\n",
    "\n",
    "To get changes in a file in a local version of a repository tracked, saved, and then shared with the internet (on github), do the following:\n",
    "\n",
    "* `git add` to initially tell the system to track your file and subsequently to tell the system that you want to take into account new changes to the file (you can also add more than one file in this process). Then \n",
    "* `git commit -m [commit note]` to save the changes. Then\n",
    "* `git push` to share the changes with the version of your repository on github. Now you should be able to look at your repo on github and see your updated file there.\n",
    "\n",
    "**GitHub Desktop**\n",
    "\n",
    "After you have made your repository on GitHub (the website), you should clone it to GitHub Desktop (which is on your local machine). (This should be very easy if you are properly signed into your github account in GitHub Desktop.) Then to get your file tracked and pushed to GitHub (the website):\n",
    "\n",
    "* While inspecting the relevant repository, any untracked files or changes to tracked files are shown in the middle window (it is white with horizontal lines). To do the equivalent of `git add`, you should check the box of the file.\n",
    "* To commit your changes, fill out the form at the bottom of the same window. One short window leaves space for a  \"Summary\" of your changes, and if you have more to say you can put it in the \"Description\" box.\n",
    "* To push your local changes out to GitHub online, use the Sync button on the upper right hand corner of the window. As a side note, this sync button is also how you should pull down changes to a repository you are following (the equivalent of `git pull`).\n",
    "\n",
    "\n",
    "Note that you do not want to have a directory covered by two git repositories. So for file structure for this class, for example, you might want to have one directory for the class (\"Python_x89\") which contains two version-controlled subdirectories: the course materials (python4geosciences) and your homework repository (\"homework\"). That will keep everything properly separated. \n",
    "\n",
    "![XKCD](https://imgs.xkcd.com/comics/git.png)\n",
    "\n",
    "[Git as explained by XKCD](https://xkcd.com/1597/)\n",
    "\n",
    "### `git status`\n",
    "\n",
    "Type this in a git-monitored subdirectory on your computer to see the status of files that are under git version control and which files are not being monitored.\n",
    "\n",
    "### `git add`\n",
    "\n",
    "Use this to add local files to your git repository. `git add [filename]`.\n",
    "\n",
    "### `git commit`\n",
    "\n",
    "Use this to save to your repository local file changes. First you need to add the file with `git add`, then you can `git commit -m [commit message]`, where the commit message is a concise and useful note to explain what changes you have made. You may skip the `git add` step if you would like to commit at once all changes that have been made (you can see what changes would be committed by first consulting `git status`) with `git commit -am [commit message]`. The `-a` flag stands for \"all\" as in commit all changes.\n",
    "\n",
    "### `git push`\n",
    "\n",
    "To move your local changes to github so that they are saved and also for sharing with others, you need to `git push`. After making whatever commits you want to make, you can run this command to finalize your changes on github.\n",
    "\n",
    "### `git merge`\n",
    "\n",
    "If changes have been made in multiple places (say, by another person working on the same code base, or by yourself on two different machines) between `git push`es, git will try to merge if possible — which it will do if the changes don't overlap and therefore don't require your input. If the changes do overlap, you will have to merge the two versions of the code together. You probably won't need to do this in this class.\n",
    "\n",
    "\n",
    "### Get set up with GitHub\n",
    "\n",
    "You'll need an account on github if you don't already have one, and to have git installed on your computer. We will interact with github through a terminal window in class and through the website. You may also download the [GitHub Desktop application](https://desktop.github.com/) to use if you prefer, though we won't be able to help you much with the details of it.\n",
    "\n",
    "### Create a new repo\n",
    "\n",
    "In your account on the github webpage, click on the Repositories tab and then the green \"New\" button in the upper right. You'll need to keep this repo public. After creating this new repo, follow the instructions on the next page for quick setup or to create a new repository on the command line. This makes it so that you have the repo both on github and on your local machine. \n",
    "\n",
    "### Clone a repo\n",
    "\n",
    "In a terminal window in the location you want to save the repo materials, type: `git clone [repo address, e.g. https://github.com/snifflesnrumjum/python4geosciences]`."
   ]
  },
  {
   "cell_type": "code",
   "execution_count": null,
   "metadata": {
    "collapsed": true
   },
   "outputs": [],
   "source": []
  }
 ],
 "metadata": {
  "anaconda-cloud": {},
  "kernelspec": {
   "display_name": "Python 3",
   "language": "python",
   "name": "python3"
  },
  "language_info": {
   "codemirror_mode": {
    "name": "ipython",
    "version": 3
   },
   "file_extension": ".py",
   "mimetype": "text/x-python",
   "name": "python",
   "nbconvert_exporter": "python",
   "pygments_lexer": "ipython3",
   "version": "3.8.5"
  }
 },
 "nbformat": 4,
 "nbformat_minor": 1
}
