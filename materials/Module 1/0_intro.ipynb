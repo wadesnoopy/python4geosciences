{
 "cells": [
  {
   "cell_type": "markdown",
   "metadata": {},
   "source": [
    "# Course introduction"
   ]
  },
  {
   "cell_type": "markdown",
   "metadata": {},
   "source": [
    "## A. Overview"
   ]
  },
  {
   "cell_type": "markdown",
   "metadata": {},
   "source": [
    "### Am I ready to take this course?\n",
    "\n",
    "Yes. Probably. Some programming experience will help, but is not required. If you have no programming experience, I strongly encourage you to go through Step 1 (free) of [Data Scientist in Python](https://app.dataquest.io/dashboard).\n",
    "\n",
    "There are <b>a lot</b> of online resources that you can use to supplement things we learn in class. Some examples are:\n",
    "\n",
    " * [Learn Python](https://www.learnpython.org/)\n",
    " * [python.org Tutorial](https://docs.python.org/3/tutorial/index.html)\n",
    " * [Google](http://google.com) (Just type in your question and follow the first [stackoverflow](http://stackoverflow.com) link. This is surprisingly effective; do this first.)"
   ]
  },
  {
   "cell_type": "markdown",
   "metadata": {},
   "source": [
    "### What computational resources do I need for class?\n",
    "\n",
    "You will need a laptop that will provide you access to the course (i.e. internet access) and a Python environment to follow along. We will use [Anaconda distribution of Python](https://www.anaconda.com/products/individual) in this course."
   ]
  },
  {
   "cell_type": "markdown",
   "metadata": {},
   "source": [
    "### How is this for geosciences specifically?\n",
    "\n",
    "The goal of this class is to provide information for all fields in geoscience. To that end, I will try to cover topics from geology, geography, atmospheric sciences, and oceanography. Specifically, I will focus on data wrangling, data visualization, 1D timeseries, and 2D geospatial (i.e., on a map) analysis. If you have any topics you would like to cover, please let me know, and I will do my best to accommodate."
   ]
  },
  {
   "attachments": {},
   "cell_type": "markdown",
   "metadata": {},
   "source": [
    "## Class setup\n",
    "\n",
    "### Class format\n",
    "\n",
    "We will go through course materials during class time. You should bring a computer to class so that you can follow along and participate in exercises. Also, course materials are interactive, so you can learn by running code snippets as we go and asking questions. Much like learning a new spoken language, hands-on coding is one the <b>best</b> ways to learn a new language. \n",
    "\n",
    "\n",
    "### Course materials\n",
    "\n",
    "The course materials are available in the [class repository](https://github.com/snifflesnrumjum/python4geosciences). They are in the form of [Jupyter notebooks](http://jupyter.org/). More information on notebooks in the next section.\n",
    "\n",
    "You'll do your work on your own computer, and submit the homework in the jupyter notebook format.\n",
    "\n",
    "\n",
    "### Course textbook\n",
    "\n",
    "There is no textbook required for the course. But if you'd like an outside resource, here are three recommendations:\n",
    "\n",
    "1. **Beginning Python** by Magnus Lie Hetland (available electronically through TAMU Library http://library.tamu.edu/)\n",
    "2. **Numerical Python** by Robert Johansson (available electronically through TAMU Library http://library.tamu.edu/)\n",
    "3. A number of free Python books (https://devfreebooks.github.io/python/)\n",
    "\n",
    "\n",
    "### Python cheatseets\n",
    "\n",
    "1. [Python basics](https://github.com/ehmatthes/pcc_2e/releases/download/v1.0.1/beginners_python_cheat_sheet_pcc_all.pdf![image.png](attachment:image.png))\n",
    "2. [matplotlib for plotting](https://github.com/matplotlib/cheatsheets#cheatsheets) \n",
    "3. [numpy](http://datacamp-community-prod.s3.amazonaws.com/da466534-51fe-4c6d-b0cb-154f4782eb54)\n",
    "4. [pandas](https://pandas.pydata.org/Pandas_Cheat_Sheet.pdf)\n"
   ]
  },
  {
   "cell_type": "markdown",
   "metadata": {
    "slideshow": {
     "slide_type": "slide"
    }
   },
   "source": [
    "## B. Jupyter notebooks\n",
    "\n",
    "This file format makes it easy to seamlessly combine text and code. The text can be plain or formatted with [Markdown](https://daringfireball.net/projects/markdown/). The code can be written in over 40 languages including Python, R, and Scala. Most importantly, the code can be interacted with when the notebook is opened in a local (that is, on your computer) iPython server. Alternatively, it can simply be viewed through a github repository (like [this very notebook](https://github.com/snifflesnrumjum/python4geosciences/blob/master/materials/0_intro.ipynb)) or through [nbviewer](http://nbviewer.ipython.org/).\n",
    "\n",
    "You'll be able to run class materials (in the form of Jupyter notebooks) on your own computer, on Google Colab or the VOAL via your web browser as well as create and work on homework assignments. If you prefer, you are welcome to run Python on your own computer, but you will need to do that mostly on your own. If you go that route, I recommend using Python 3 (which we will be using in class) and a distribution from [Anaconda](https://www.anaconda.com/products/individual). \n",
    "\n",
    "\n",
    "### Create a new notebook\n",
    "\n",
    "Start up your local notebook server in your new repo and create a new Jupyter notebook from the local server page.\n",
    "\n",
    "### Choose syntax for a cell\n",
    "\n",
    "Notebooks are built of cells. Cells can have multiple built-in formats including code and Markdown for text. You can select the desired format from a dropdown menu at the top.\n",
    "\n",
    "If you want to type words, use \"Markdown\"; if you want to write code, choose \"code\".\n",
    "\n",
    "### Move between cells\n",
    "\n",
    "To run a given cell, type `[shift-enter]` which active in that cell. You can run all of the cells with Cell > Run all; other variations are available in that drop down menu.\n",
    "\n",
    "\n",
    "### Homework\n",
    "\n",
    "We'll discuss homework soon and go through details. It will be in the form of Jupyter notebooks and will be submitted through the Canvas LMS.\n"
   ]
  },
  {
   "cell_type": "markdown",
   "metadata": {},
   "source": [
    "---\n",
    "\n",
    "The material below is bonus for any students that are interested in using a terminal window on their own computer for running Python. We may go through it in class."
   ]
  },
  {
   "cell_type": "markdown",
   "metadata": {},
   "source": [
    "## Command-line interface\n",
    "\n",
    "A command-line interface is a way to interact with your computer using text instead of a Graphical User Interface (GUI), a GUI being visually based with icons etc. We will use these in this class. On a Macintosh or Linux machine, this is a terminal window. On a PC this is often called a command prompt.\n",
    "\n",
    "Here are some commonly-used commands:\n",
    "\n",
    "* `cd [path]`: change directory from current location to [path]. `cd ..` can be used to move up a single directory, and `cd ../..` moves up two directories, etc.\n",
    "* `pwd`: print working directory, as in write out the current location in the terminal window.\n",
    "* `ls`: list files in current directory. `ls -l` list files in long format to include more information, `ls -a` to list all files even those that are usually not shown because the have a `.` in front, `ls -h` to show file sizes in human readable format. Flags can always be combined to use multiple options at once, as in `ls -ah` to show all files in human readable format.\n",
    "* [tab]: Tab completion. You can always push tab in the terminal window to see available options. As you have some letters entered and push tab, the options will be limited to those that fit the pattern you have started.\n",
    "* `mkdir [dirname]`: make directory called dirname.\n",
    "* `rm [filename]`: remove a file called filename. To remove a directory called dirname, use `rm -r [dirname]`."
   ]
  }
 ],
 "metadata": {
  "anaconda-cloud": {},
  "kernelspec": {
   "display_name": "Python 3",
   "language": "python",
   "name": "python3"
  },
  "language_info": {
   "codemirror_mode": {
    "name": "ipython",
    "version": 3
   },
   "file_extension": ".py",
   "mimetype": "text/x-python",
   "name": "python",
   "nbconvert_exporter": "python",
   "pygments_lexer": "ipython3",
   "version": "3.8.5"
  }
 },
 "nbformat": 4,
 "nbformat_minor": 1
}
